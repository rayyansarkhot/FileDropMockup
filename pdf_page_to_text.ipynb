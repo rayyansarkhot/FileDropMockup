{
 "cells": [
  {
   "cell_type": "code",
   "execution_count": 12,
   "id": "f20cdc0a",
   "metadata": {},
   "outputs": [],
   "source": [
    "count = 0\n",
    "output_file_prefix = \"output_file_\" "
   ]
  },
  {
   "cell_type": "code",
   "execution_count": 13,
   "id": "46bb6d46",
   "metadata": {},
   "outputs": [],
   "source": [
    "import fitz\n",
    "doc = fitz.open('C:/Users/aksha/OneDrive/Desktop/PrincetonIT/RFQ/842639908.pdf')\n",
    "text = \"\"\n",
    "for page in doc:\n",
    "    current_page=page.get_text()\n",
    "    with open(output_file_prefix + str(count) + \".txt\", \"w\", encoding=\"utf-8\") as file:\n",
    "        file.write(current_page)\n",
    "    count+=1\n"
   ]
  },
  {
   "cell_type": "code",
   "execution_count": null,
   "id": "c68ccdbe",
   "metadata": {},
   "outputs": [],
   "source": []
  }
 ],
 "metadata": {
  "kernelspec": {
   "display_name": "Python 3 (ipykernel)",
   "language": "python",
   "name": "python3"
  },
  "language_info": {
   "codemirror_mode": {
    "name": "ipython",
    "version": 3
   },
   "file_extension": ".py",
   "mimetype": "text/x-python",
   "name": "python",
   "nbconvert_exporter": "python",
   "pygments_lexer": "ipython3",
   "version": "3.9.13"
  }
 },
 "nbformat": 4,
 "nbformat_minor": 5
}
