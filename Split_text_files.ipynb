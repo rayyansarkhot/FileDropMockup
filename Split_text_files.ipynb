{
 "cells": [
  {
   "cell_type": "code",
   "execution_count": 9,
   "id": "d02a35c9",
   "metadata": {},
   "outputs": [],
   "source": [
    "input_file = 'text_data.txt'\n",
    "max_lines_per_file = 60 \n",
    "output_file_prefix = \"output_file_\" \n",
    "     \n",
    "with open(input_file, \"r\", encoding=\"utf-8\") as infile: \n",
    "    count = 0 \n",
    "    outfile = None \n",
    "    for line in infile: \n",
    "        if count % max_lines_per_file == 0: \n",
    "            if outfile: \n",
    "                outfile.close() \n",
    "            outfile = open(output_file_prefix + str(count // max_lines_per_file) + \".txt\", \"w\", encoding=\"utf-8\") \n",
    "        outfile.write(line) \n",
    "        count += 1 \n",
    "    if outfile: \n",
    "        outfile.close() "
   ]
  },
  {
   "cell_type": "code",
   "execution_count": null,
   "id": "06778ba9",
   "metadata": {},
   "outputs": [],
   "source": []
  }
 ],
 "metadata": {
  "kernelspec": {
   "display_name": "Python 3 (ipykernel)",
   "language": "python",
   "name": "python3"
  },
  "language_info": {
   "codemirror_mode": {
    "name": "ipython",
    "version": 3
   },
   "file_extension": ".py",
   "mimetype": "text/x-python",
   "name": "python",
   "nbconvert_exporter": "python",
   "pygments_lexer": "ipython3",
   "version": "3.9.13"
  }
 },
 "nbformat": 4,
 "nbformat_minor": 5
}
